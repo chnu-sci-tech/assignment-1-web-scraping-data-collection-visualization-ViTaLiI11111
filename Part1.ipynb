{
  "nbformat": 4,
  "nbformat_minor": 0,
  "metadata": {
    "colab": {
      "provenance": []
    },
    "kernelspec": {
      "name": "python3",
      "display_name": "Python 3"
    },
    "language_info": {
      "name": "python"
    }
  },
  "cells": [
    {
      "cell_type": "code",
      "execution_count": 2,
      "metadata": {
        "colab": {
          "base_uri": "https://localhost:8080/"
        },
        "id": "Ly3QXnHmaOPi",
        "outputId": "bcd1f6fa-a96c-4dc3-bcba-c8bca1745921"
      },
      "outputs": [
        {
          "output_type": "stream",
          "name": "stdout",
          "text": [
            "Головна - Факультет математики та інформатики Перейти до основного вмісту [email protected] 58012, Україна, м. Чернівці, вул. Університетська, 28 Новини Всі Загальні Оголошення Події Студенту Викладачу Вітання Діяльність Наукова Навчально-методична Міжнар\n",
            "Web scraping - Wikipedia Jump to content Main menu Main menu move to sidebar hide Navigation Main page Contents Current events Random article About Wikipedia Contact us Contribute Help Learn to edit Community portal Recent changes Upload file Search Searc\n"
          ]
        }
      ],
      "source": [
        "import requests\n",
        "from bs4 import BeautifulSoup\n",
        "import json\n",
        "import pandas as pd\n",
        "from datetime import datetime\n",
        "import csv\n",
        "import numpy as np\n",
        "import matplotlib.pyplot as plt\n",
        "\n",
        "def parse_web_page(url):\n",
        "\n",
        "    try:\n",
        "        response = requests.get(url)          #запит до сторінки\n",
        "        response.raise_for_status()           # перевірка запиту\n",
        "\n",
        "        soup = BeautifulSoup(response.text, 'html.parser') #парсинг\n",
        "\n",
        "        text = soup.get_text(separator=' ', strip=True) #текст без тегів\n",
        "        return text\n",
        "\n",
        "    except requests.HTTPError as e:\n",
        "        return f\"Помилка: {e}\"\n",
        "\n",
        "print(parse_web_page('https://fmi.chnu.edu.ua/')[:255])\n",
        "print(parse_web_page('https://en.wikipedia.org/wiki/Web_scraping')[:255])\n"
      ]
    }
  ]
}