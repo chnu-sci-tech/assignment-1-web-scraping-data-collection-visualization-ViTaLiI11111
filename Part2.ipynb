{
  "nbformat": 4,
  "nbformat_minor": 0,
  "metadata": {
    "colab": {
      "provenance": []
    },
    "kernelspec": {
      "name": "python3",
      "display_name": "Python 3"
    },
    "language_info": {
      "name": "python"
    }
  },
  "cells": [
    {
      "cell_type": "code",
      "execution_count": 11,
      "metadata": {
        "id": "Ly3QXnHmaOPi"
      },
      "outputs": [],
      "source": [
        "import json\n",
        "import requests\n",
        "\n",
        "def parse_api(api_url):\n",
        "\n",
        "    try:\n",
        "        response = requests.get(api_url) #надсилає запит\n",
        "        response.raise_for_status() #перевіряє статус запиту\n",
        "        data = response.json()\n",
        "\n",
        "        with open('result.json', 'w') as f:\n",
        "            json.dump(data, f, indent=4)\n",
        "\n",
        "    except requests.HTTPError as e:\n",
        "        print(f\"Помилка: {e}\")\n",
        "\n",
        "parse_api('https://api.github.com/')\n"
      ]
    }
  ]
}