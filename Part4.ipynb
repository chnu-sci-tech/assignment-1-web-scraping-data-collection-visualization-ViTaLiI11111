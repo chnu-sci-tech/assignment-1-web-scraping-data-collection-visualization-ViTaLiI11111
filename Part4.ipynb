{
  "nbformat": 4,
  "nbformat_minor": 0,
  "metadata": {
    "colab": {
      "provenance": []
    },
    "kernelspec": {
      "name": "python3",
      "display_name": "Python 3"
    },
    "language_info": {
      "name": "python"
    }
  },
  "cells": [
    {
      "cell_type": "code",
      "execution_count": 2,
      "metadata": {
        "colab": {
          "base_uri": "https://localhost:8080/"
        },
        "id": "Ly3QXnHmaOPi",
        "outputId": "48a05e2c-d1e5-485f-feb0-f391e2dd2b2c"
      },
      "outputs": [
        {
          "output_type": "stream",
          "name": "stdout",
          "text": [
            "[{'CET': '2012-7-26', 'Max TemperatureC': '35', 'Mean TemperatureC': '27', 'Min TemperatureC': '19', 'Dew PointC': '18', 'MeanDew PointC': '13', 'Min DewpointC': '8', 'Max Humidity': '88', ' Mean Humidity': '50', ' Min Humidity': '14', ' Max Sea Level PressurehPa': '1019', ' Mean Sea Level PressurehPa': '1014', ' Min Sea Level PressurehPa': '1006', ' Max VisibilityKm': '31', ' Mean VisibilityKm': '11', ' Min VisibilitykM': '5', ' Max Wind SpeedKm/h': '35', ' Mean Wind SpeedKm/h': '11', ' Max Gust SpeedKm/h': '66', 'Precipitationmm': '5.08', ' CloudCover': '2', ' Events': 'Rain-Thunderstorm', 'WindDirDegrees': '73'}]\n"
          ]
        }
      ],
      "source": [
        "import csv\n",
        "\n",
        "def parse_csv(date):\n",
        "\n",
        "    try:\n",
        "        with open('weather.csv', 'r') as f:\n",
        "            reader = csv.DictReader(f)\n",
        "\n",
        "            for row in reader:\n",
        "                if row['CET'] == date:\n",
        "                    return [row]\n",
        "\n",
        "        print(f\"Інформація по даті відсутня: {date}\")\n",
        "        return []\n",
        "\n",
        "    except FileNotFoundError:\n",
        "        print(\"weather.csv файл не знайдено.\")\n",
        "        return []\n",
        "\n",
        "target_date = '2012-7-26'\n",
        "weather_data = parse_csv(target_date)\n",
        "print(weather_data)\n"
      ]
    }
  ]
}