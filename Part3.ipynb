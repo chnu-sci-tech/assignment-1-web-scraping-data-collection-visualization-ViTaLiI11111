{
  "nbformat": 4,
  "nbformat_minor": 0,
  "metadata": {
    "colab": {
      "provenance": []
    },
    "kernelspec": {
      "name": "python3",
      "display_name": "Python 3"
    },
    "language_info": {
      "name": "python"
    }
  },
  "cells": [
    {
      "cell_type": "code",
      "execution_count": 5,
      "metadata": {
        "colab": {
          "base_uri": "https://localhost:8080/"
        },
        "id": "Ly3QXnHmaOPi",
        "outputId": "7df0bd28-64a6-4b44-fd7e-e7d2882ca20f"
      },
      "outputs": [
        {
          "output_type": "stream",
          "name": "stdout",
          "text": [
            "{'date': '2024-08-20', 'max_temperature': 28.0, 'min_temperature': 20.0, 'precipitation': 10.0, 'wind_speed': 8.0, 'humidity': 80, 'weather_description': 'Moderate rain'}\n"
          ]
        }
      ],
      "source": [
        "import json\n",
        "\n",
        "def parse_json(date):\n",
        "\n",
        "    try:\n",
        "        with open('weather.json', 'r') as f:\n",
        "            data = json.load(f)  # завантажує дані з файла\n",
        "\n",
        "        daily_weather = data.get('daily', []) # список 'daily'\n",
        "\n",
        "\n",
        "        for entry in daily_weather: # фільтрує інф по даті\n",
        "            if entry['date'] == date:\n",
        "                return entry\n",
        "\n",
        "        print(f\"Інформацію по вказаній даті не знайдено: {date}\")\n",
        "        return []\n",
        "\n",
        "    except FileNotFoundError:\n",
        "        print(\"weather.json файл не знайдено.\")\n",
        "        return []\n",
        "\n",
        "target_date = '2024-08-20'\n",
        "weather_data = parse_json(target_date)\n",
        "print(weather_data)\n"
      ]
    }
  ]
}